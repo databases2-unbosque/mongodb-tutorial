{
 "cells": [
  {
   "cell_type": "code",
   "execution_count": null,
   "metadata": {},
   "outputs": [],
   "source": [
    "!mongoimport --db restaurants --collection restaurants --drop --file ./data/restaurants.json\n",
    "!mongoimport --db restaurants --collection neighborhoods --drop --file ./data/neighborhoods.json"
   ]
  },
  {
   "cell_type": "code",
   "execution_count": null,
   "metadata": {},
   "outputs": [],
   "source": [
    "import json\n",
    "import pymongo"
   ]
  },
  {
   "cell_type": "code",
   "execution_count": null,
   "metadata": {},
   "outputs": [],
   "source": [
    "HOST = \"localhost\"\n",
    "PORT = \"27017\"\n",
    "DB_NAME = \"restaurants\""
   ]
  },
  {
   "cell_type": "markdown",
   "metadata": {},
   "source": [
    "### Utilities functions"
   ]
  },
  {
   "cell_type": "code",
   "execution_count": null,
   "metadata": {},
   "outputs": [],
   "source": [
    "def transform_json(element):\n",
    "    geo_element = dict()\n",
    "    geo_element[\"type\"] = \"Feature\"\n",
    "    geo_element[\"geometry\"] = dict()\n",
    "    \n",
    "    try:\n",
    "        geo_element[\"geometry\"][\"type\"] = element[\"location\"][\"type\"]\n",
    "        geo_element[\"geometry\"][\"coordinates\"] = element[\"location\"][\"coordinates\"]\n",
    "    except KeyError:\n",
    "        geo_element[\"geometry\"][\"type\"] = element[\"geometry\"][\"type\"]\n",
    "        geo_element[\"geometry\"][\"coordinates\"] = element[\"geometry\"][\"coordinates\"]\n",
    "    \n",
    "    geo_element[\"properties\"] = dict()\n",
    "    geo_element[\"properties\"][\"name\"] = element[\"name\"]\n",
    "    return geo_element"
   ]
  },
  {
   "cell_type": "code",
   "execution_count": null,
   "metadata": {},
   "outputs": [],
   "source": [
    "def save_json(data, filename = \"ouput.json\"):\n",
    "    with open(\"./data/\" + filename, \"w\") as outfile:\n",
    "        json.dump(data, outfile, indent = 4, sort_keys = True)"
   ]
  },
  {
   "cell_type": "code",
   "execution_count": null,
   "metadata": {},
   "outputs": [],
   "source": [
    "def create_feature_collection(features):  \n",
    "    feature_collection = dict()\n",
    "    feature_collection[\"type\"] = \"FeatureCollection\"\n",
    "    feature_collection[\"features\"] = features\n",
    "    return feature_collection"
   ]
  },
  {
   "cell_type": "markdown",
   "metadata": {},
   "source": [
    "### Connecting MongoDB and setting up for geographic queries"
   ]
  },
  {
   "cell_type": "code",
   "execution_count": null,
   "metadata": {},
   "outputs": [],
   "source": [
    "# Connecting to database\n",
    "db = None\n",
    "try:\n",
    "    db_client = pymongo.MongoClient(HOST + \":\" + PORT)\n",
    "    db = db_client[DB_NAME]\n",
    "    print(\"Conecction established successfully!\")\n",
    "except pymongo.errors.ConnectionFailure:\n",
    "    print(\"Connection cannot be established\")"
   ]
  },
  {
   "cell_type": "code",
   "execution_count": null,
   "metadata": {},
   "outputs": [],
   "source": [
    "# Creating geospatial indexes: https://docs.mongodb.com/manual/core/2dsphere/\n",
    "db.restaurants.create_index([(\"location\", \"2dsphere\")])\n",
    "db.neighborhoods.create_index([(\"geometry\", \"2dsphere\")])"
   ]
  },
  {
   "cell_type": "markdown",
   "metadata": {},
   "source": [
    "### Making some basic queries"
   ]
  },
  {
   "cell_type": "code",
   "execution_count": null,
   "metadata": {},
   "outputs": [],
   "source": [
    "# Getting the first restaurant in restaurants collection\n",
    "point = db.restaurants.find_one()\n",
    "point"
   ]
  },
  {
   "cell_type": "code",
   "execution_count": null,
   "metadata": {},
   "outputs": [],
   "source": [
    "# Transforming the previous result to a GeoJSON string\n",
    "geo_point = transform_json(point)\n",
    "geo_point"
   ]
  },
  {
   "cell_type": "code",
   "execution_count": null,
   "metadata": {},
   "outputs": [],
   "source": [
    "# Storing GeoJSON string to disk\n",
    "save_json(geo_point, \"geo_point.json\")"
   ]
  },
  {
   "cell_type": "code",
   "execution_count": null,
   "metadata": {},
   "outputs": [],
   "source": [
    "# Getting the first neighborhood in neighborhoods collection\n",
    "polygon = db.neighborhoods.find_one()"
   ]
  },
  {
   "cell_type": "code",
   "execution_count": null,
   "metadata": {},
   "outputs": [],
   "source": [
    "# Transforming the previous result to a GeoJSON string\n",
    "geo_polygon = transform_json(polygon)\n",
    "geo_polygon"
   ]
  },
  {
   "cell_type": "code",
   "execution_count": null,
   "metadata": {},
   "outputs": [],
   "source": [
    "# Storing GeoJSON string to disk\n",
    "save_json(geo_polygon, \"geo_polygon.json\")"
   ]
  },
  {
   "cell_type": "markdown",
   "metadata": {},
   "source": [
    "### Making geographical queries"
   ]
  },
  {
   "cell_type": "code",
   "execution_count": null,
   "metadata": {},
   "outputs": [],
   "source": [
    "# Neighborhood intersects point\n",
    "intersection = db.neighborhoods.find_one({\"geometry\": {\"$geoIntersects\": {\"$geometry\": {\"type\": \"Point\", \"coordinates\": [-73.93414657, 40.82302903]}}}})"
   ]
  },
  {
   "cell_type": "code",
   "execution_count": null,
   "metadata": {},
   "outputs": [],
   "source": [
    "save_json(transform_json(intersection), \"geo_intersection.json\")"
   ]
  },
  {
   "cell_type": "code",
   "execution_count": null,
   "metadata": {},
   "outputs": [],
   "source": [
    "# Restaurants within neighborhood\n",
    "neighborhood = db.neighborhoods.find_one({\"geometry\": {\"$geoIntersects\": {\"$geometry\": {\"type\": \"Point\", \"coordinates\": [-73.93414657, 40.82302903]}}}})\n",
    "restaurants = db.restaurants.find({\"location\": {\"$geoWithin\": {\"$geometry\": neighborhood[\"geometry\"]}}})\n",
    "\n",
    "geo_restaurants = []\n",
    "for restaurant in restaurants:\n",
    "    geo_restaurants.append(transform_json(restaurant))\n",
    "geo_feature_collection = create_feature_collection(geo_restaurants)"
   ]
  },
  {
   "cell_type": "code",
   "execution_count": null,
   "metadata": {},
   "outputs": [],
   "source": [
    "save_json(geo_feature_collection, \"geo_feature_collection.json\")"
   ]
  },
  {
   "cell_type": "code",
   "execution_count": null,
   "metadata": {},
   "outputs": [],
   "source": [
    "# Restaurants by proximity\n",
    "restaurants = db.restaurants.find({\"location\": {\"$geoWithin\": {\"$centerSphere\": [[-73.93414657, 40.82302903 ], 1.5/3963.2]}}}) # 1.5 miles\n",
    "\n",
    "geo_restaurants = []\n",
    "for restaurant in restaurants:\n",
    "    geo_restaurants.append(transform_json( restaurant))\n",
    "save_json( create_feature_collection(geo_restaurants), \"geo_proximity.json\")"
   ]
  },
  {
   "cell_type": "code",
   "execution_count": null,
   "metadata": {},
   "outputs": [],
   "source": [
    "# Restaurants within sphere\n",
    "restaurants = db.restaurants.find({\"location\": {\"$nearSphere\": {\"$geometry\": {\"type\": \"Point\", \"coordinates\": [-73.93414657, 40.82302903]}, \"$minDistance\": 1000, \"$maxDistance\": 1500}}})\n",
    "\n",
    "geo_restaurants = []\n",
    "for restaurant in restaurants:\n",
    "    geo_restaurants.append(transform_json(restaurant))\n",
    "save_json(create_feature_collection(geo_restaurants), \"geo_sphere.json\")"
   ]
  },
  {
   "cell_type": "code",
   "execution_count": null,
   "metadata": {},
   "outputs": [],
   "source": []
  }
 ],
 "metadata": {
  "kernelspec": {
   "display_name": "Python 3",
   "language": "python",
   "name": "python3"
  },
  "language_info": {
   "codemirror_mode": {
    "name": "ipython",
    "version": 3
   },
   "file_extension": ".py",
   "mimetype": "text/x-python",
   "name": "python",
   "nbconvert_exporter": "python",
   "pygments_lexer": "ipython3",
   "version": "3.7.6"
  }
 },
 "nbformat": 4,
 "nbformat_minor": 4
}
