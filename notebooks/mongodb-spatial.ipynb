{
 "cells": [
  {
   "cell_type": "markdown",
   "metadata": {},
   "source": [
    "http://geojsonviewer.nsspot.net/"
   ]
  },
  {
   "cell_type": "code",
   "execution_count": null,
   "metadata": {},
   "outputs": [],
   "source": [
    "import pymongo\n",
    "import json"
   ]
  },
  {
   "cell_type": "code",
   "execution_count": null,
   "metadata": {},
   "outputs": [],
   "source": [
    "# Parámetros de la base de datos\n",
    "host = 'localhost'\n",
    "port = '27017'\n",
    "db_name = 'test'"
   ]
  },
  {
   "cell_type": "code",
   "execution_count": null,
   "metadata": {},
   "outputs": [],
   "source": [
    "def transform_json( element ):\n",
    "    geo_element = dict()\n",
    "    geo_element[ 'type'] = 'Feature'\n",
    "    geo_element[ 'geometry'] = dict()\n",
    "    \n",
    "    try:\n",
    "        geo_element[ 'geometry'][ 'type'] = element[ 'location' ][ 'type' ]\n",
    "        geo_element[ 'geometry'][ 'coordinates'] = element[ 'location' ][ 'coordinates' ]\n",
    "    except KeyError:\n",
    "        geo_element[ 'geometry'][ 'type'] = element[ 'geometry' ][ 'type' ]\n",
    "        geo_element[ 'geometry'][ 'coordinates'] = element[ 'geometry' ][ 'coordinates' ]\n",
    "    \n",
    "    geo_element[ 'properties'] = dict()\n",
    "    geo_element[ 'properties'][ 'name'] = element[ 'name' ]\n",
    "    return geo_element"
   ]
  },
  {
   "cell_type": "code",
   "execution_count": null,
   "metadata": {},
   "outputs": [],
   "source": [
    "def create_feature_collection( features ):  \n",
    "    feature_collection = dict()\n",
    "    feature_collection[ 'type' ] = 'FeatureCollection'\n",
    "    feature_collection[ 'features' ] = features\n",
    "    return feature_collection"
   ]
  },
  {
   "cell_type": "code",
   "execution_count": null,
   "metadata": {},
   "outputs": [],
   "source": [
    "def save_json( data ):\n",
    "    with open( './data/ouput.json', 'w' ) as outfile:\n",
    "        json.dump( data, outfile )"
   ]
  },
  {
   "cell_type": "code",
   "execution_count": null,
   "metadata": {},
   "outputs": [],
   "source": [
    "# Conexión a la base de datos\n",
    "db = None\n",
    "try:\n",
    "    db_client = pymongo.MongoClient( host + ':' + port )\n",
    "    db = db_client[ db_name ]\n",
    "    print( 'Conecction established successfully!' )\n",
    "except pymongo.errors.ConnectionFailure:\n",
    "    print( 'Connection cannot be established' )"
   ]
  },
  {
   "cell_type": "code",
   "execution_count": null,
   "metadata": {},
   "outputs": [],
   "source": [
    "db.restaurants.create_index( [ ( 'location', '2dsphere' ) ] )\n",
    "db.neighborhoods.create_index( [ ( 'geometry', '2dsphere' ) ] )"
   ]
  },
  {
   "cell_type": "code",
   "execution_count": null,
   "metadata": {},
   "outputs": [],
   "source": [
    "point = db.restaurants.find_one()\n",
    "point"
   ]
  },
  {
   "cell_type": "code",
   "execution_count": null,
   "metadata": {},
   "outputs": [],
   "source": [
    "geo_point = transform_json( point )\n",
    "geo_point"
   ]
  },
  {
   "cell_type": "code",
   "execution_count": null,
   "metadata": {},
   "outputs": [],
   "source": [
    "save_json( geo_point )"
   ]
  },
  {
   "cell_type": "code",
   "execution_count": null,
   "metadata": {},
   "outputs": [],
   "source": [
    "polygon = db.neighborhoods.find_one()"
   ]
  },
  {
   "cell_type": "code",
   "execution_count": null,
   "metadata": {},
   "outputs": [],
   "source": [
    "geo_polygon = transform_json( polygon )\n",
    "geo_polygon"
   ]
  },
  {
   "cell_type": "code",
   "execution_count": null,
   "metadata": {},
   "outputs": [],
   "source": [
    "save_json( geo_polygon )"
   ]
  },
  {
   "cell_type": "code",
   "execution_count": null,
   "metadata": {},
   "outputs": [],
   "source": [
    "intersect = db.neighborhoods.find_one( { 'geometry' : { '$geoIntersects' : { '$geometry' : { 'type' : 'Point', 'coordinates' : [ -73.93414657, 40.82302903 ] } } } } )"
   ]
  },
  {
   "cell_type": "code",
   "execution_count": null,
   "metadata": {},
   "outputs": [],
   "source": [
    "save_json( transform_json( intersect ) )"
   ]
  },
  {
   "cell_type": "code",
   "execution_count": null,
   "metadata": {},
   "outputs": [],
   "source": [
    "neighborhood = db.neighborhoods.find_one( { 'geometry' : { '$geoIntersects' : { '$geometry' : { 'type' : 'Point', 'coordinates' : [ -73.93414657, 40.82302903 ] } } } } )\n",
    "restaurants = db.restaurants.find( { 'location': { '$geoWithin' : { '$geometry' : neighborhood[ 'geometry' ] } } } )\n",
    "\n",
    "geo_restaurants = []\n",
    "for restaurant in restaurants:\n",
    "    geo_restaurants.append( transform_json( restaurant ) )\n",
    "geo_feature_collection = create_feature_collection( geo_restaurants )\n",
    "geo_feature_collection"
   ]
  },
  {
   "cell_type": "code",
   "execution_count": null,
   "metadata": {},
   "outputs": [],
   "source": [
    "save_json( geo_feature_collection )"
   ]
  },
  {
   "cell_type": "code",
   "execution_count": null,
   "metadata": {},
   "outputs": [],
   "source": [
    "restaurants = db.restaurants.find( { 'location' : { '$geoWithin' : { '$centerSphere' : [ [ -73.93414657, 40.82302903 ], 5 / 3963.2 ] } } }) # 5 millas\n",
    "\n",
    "geo_restaurants = []\n",
    "for restaurant in restaurants:\n",
    "    geo_restaurants.append( transform_json( restaurant ) )\n",
    "save_json( create_feature_collection( geo_restaurants ) )"
   ]
  },
  {
   "cell_type": "code",
   "execution_count": null,
   "metadata": {},
   "outputs": [],
   "source": [
    "restaurants = db.restaurants.find( { 'location' : { '$nearSphere' : { '$geometry' : { 'type' : 'Point', 'coordinates' : [ -73.93414657, 40.82302903 ] }, '$maxDistance' : 5000 } } } )\n",
    "\n",
    "geo_restaurants = []\n",
    "for restaurant in restaurants:\n",
    "    geo_restaurants.append( transform_json( restaurant ) )\n",
    "save_json( create_feature_collection( geo_restaurants ) )"
   ]
  },
  {
   "cell_type": "code",
   "execution_count": null,
   "metadata": {},
   "outputs": [],
   "source": []
  }
 ],
 "metadata": {
  "kernelspec": {
   "display_name": "Python 3",
   "language": "python",
   "name": "python3"
  },
  "language_info": {
   "codemirror_mode": {
    "name": "ipython",
    "version": 3
   },
   "file_extension": ".py",
   "mimetype": "text/x-python",
   "name": "python",
   "nbconvert_exporter": "python",
   "pygments_lexer": "ipython3",
   "version": "3.7.6"
  }
 },
 "nbformat": 4,
 "nbformat_minor": 4
}
