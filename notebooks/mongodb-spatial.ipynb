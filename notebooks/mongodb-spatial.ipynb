{
 "cells": [
  {
   "cell_type": "code",
   "execution_count": 1,
   "metadata": {},
   "outputs": [
    {
     "name": "stdout",
     "output_type": "stream",
     "text": [
      "2021-10-07T17:57:37.042-0500\tconnected to: mongodb://localhost/\n",
      "2021-10-07T17:57:37.047-0500\tdropping: restaurants.restaurants\n",
      "2021-10-07T17:57:38.124-0500\t25359 document(s) imported successfully. 0 document(s) failed to import.\n",
      "2021-10-07T17:57:38.282-0500\tconnected to: mongodb://localhost/\n",
      "2021-10-07T17:57:38.282-0500\tdropping: restaurants.neighborhoods\n",
      "2021-10-07T17:57:39.346-0500\t195 document(s) imported successfully. 0 document(s) failed to import.\n"
     ]
    }
   ],
   "source": [
    "!mongoimport --db restaurants --collection restaurants --drop --file ./data/restaurants.json\n",
    "!mongoimport --db restaurants --collection neighborhoods --drop --file ./data/neighborhoods.json"
   ]
  },
  {
   "cell_type": "code",
   "execution_count": 2,
   "metadata": {},
   "outputs": [],
   "source": [
    "import json\n",
    "import pymongo"
   ]
  },
  {
   "cell_type": "code",
   "execution_count": 3,
   "metadata": {},
   "outputs": [],
   "source": [
    "HOST = \"localhost\"\n",
    "PORT = \"27017\"\n",
    "DB_NAME = \"restaurants\""
   ]
  },
  {
   "cell_type": "markdown",
   "metadata": {},
   "source": [
    "### Utilities functions"
   ]
  },
  {
   "cell_type": "code",
   "execution_count": 4,
   "metadata": {},
   "outputs": [],
   "source": [
    "def transform_json(element):\n",
    "    geo_element = dict()\n",
    "    geo_element[\"type\"] = \"Feature\"\n",
    "    geo_element[\"geometry\"] = dict()\n",
    "    \n",
    "    try:\n",
    "        geo_element[\"geometry\"][\"type\"] = element[\"location\"][\"type\"]\n",
    "        geo_element[\"geometry\"][\"coordinates\"] = element[\"location\"][\"coordinates\"]\n",
    "    except KeyError:\n",
    "        geo_element[\"geometry\"][\"type\"] = element[\"geometry\"][\"type\"]\n",
    "        geo_element[\"geometry\"][\"coordinates\"] = element[\"geometry\"][\"coordinates\"]\n",
    "    \n",
    "    geo_element[\"properties\"] = dict()\n",
    "    geo_element[\"properties\"][\"name\"] = element[\"name\"]\n",
    "    return geo_element"
   ]
  },
  {
   "cell_type": "code",
   "execution_count": 5,
   "metadata": {},
   "outputs": [],
   "source": [
    "def save_json(data, filename = \"ouput.json\"):\n",
    "    with open(\"./data/\" + filename, \"w\") as outfile:\n",
    "        json.dump(data, outfile, indent = 4, sort_keys = True)"
   ]
  },
  {
   "cell_type": "code",
   "execution_count": 6,
   "metadata": {},
   "outputs": [],
   "source": [
    "def create_feature_collection(features):  \n",
    "    feature_collection = dict()\n",
    "    feature_collection[\"type\"] = \"FeatureCollection\"\n",
    "    feature_collection[\"features\"] = features\n",
    "    return feature_collection"
   ]
  },
  {
   "cell_type": "markdown",
   "metadata": {},
   "source": [
    "### Connecting MongoDB and setting up for geographic queries"
   ]
  },
  {
   "cell_type": "code",
   "execution_count": 7,
   "metadata": {},
   "outputs": [
    {
     "name": "stdout",
     "output_type": "stream",
     "text": [
      "Conecction established successfully!\n"
     ]
    }
   ],
   "source": [
    "# Connecting to database\n",
    "db = None\n",
    "try:\n",
    "    db_client = pymongo.MongoClient(HOST + \":\" + PORT)\n",
    "    db = db_client[DB_NAME]\n",
    "    print(\"Conecction established successfully!\")\n",
    "except pymongo.errors.ConnectionFailure:\n",
    "    print(\"Connection cannot be established\")"
   ]
  },
  {
   "cell_type": "code",
   "execution_count": 8,
   "metadata": {},
   "outputs": [
    {
     "data": {
      "text/plain": [
       "'geometry_2dsphere'"
      ]
     },
     "execution_count": 8,
     "metadata": {},
     "output_type": "execute_result"
    }
   ],
   "source": [
    "# Creating geospatial indexes: https://docs.mongodb.com/manual/core/2dsphere/\n",
    "db.restaurants.create_index([(\"location\", \"2dsphere\")])\n",
    "db.neighborhoods.create_index([(\"geometry\", \"2dsphere\")])"
   ]
  },
  {
   "cell_type": "markdown",
   "metadata": {},
   "source": [
    "### Making some basic queries"
   ]
  },
  {
   "cell_type": "code",
   "execution_count": 9,
   "metadata": {},
   "outputs": [
    {
     "data": {
      "text/plain": [
       "{'_id': ObjectId('55cba2476c522cafdb053ae1'),\n",
       " 'location': {'coordinates': [-73.8803827, 40.7643124], 'type': 'Point'},\n",
       " 'name': 'Brunos On The Boulevard'}"
      ]
     },
     "execution_count": 9,
     "metadata": {},
     "output_type": "execute_result"
    }
   ],
   "source": [
    "# Getting the first restaurant in restaurants collection\n",
    "point = db.restaurants.find_one()\n",
    "point"
   ]
  },
  {
   "cell_type": "code",
   "execution_count": 10,
   "metadata": {},
   "outputs": [
    {
     "data": {
      "text/plain": [
       "{'type': 'Feature',\n",
       " 'geometry': {'type': 'Point', 'coordinates': [-73.8803827, 40.7643124]},\n",
       " 'properties': {'name': 'Brunos On The Boulevard'}}"
      ]
     },
     "execution_count": 10,
     "metadata": {},
     "output_type": "execute_result"
    }
   ],
   "source": [
    "# Transforming the previous result to a GeoJSON string\n",
    "geo_point = transform_json(point)\n",
    "geo_point"
   ]
  },
  {
   "cell_type": "code",
   "execution_count": 11,
   "metadata": {},
   "outputs": [],
   "source": [
    "# Storing GeoJSON string to disk\n",
    "save_json(geo_point, \"geo_point.json\")"
   ]
  },
  {
   "cell_type": "code",
   "execution_count": 12,
   "metadata": {},
   "outputs": [],
   "source": [
    "# Getting the first neighborhood in neighborhoods collection\n",
    "polygon = db.neighborhoods.find_one()"
   ]
  },
  {
   "cell_type": "code",
   "execution_count": 13,
   "metadata": {},
   "outputs": [
    {
     "data": {
      "text/plain": [
       "{'type': 'Feature',\n",
       " 'geometry': {'type': 'Polygon',\n",
       "  'coordinates': [[[-73.89138023380261, 40.86170058826304],\n",
       "    [-73.89106280613036, 40.86152941211661],\n",
       "    [-73.89106059904508, 40.86147181520911],\n",
       "    [-73.89115375546018, 40.86091361616668],\n",
       "    [-73.89174395026582, 40.86017714781636],\n",
       "    [-73.8922570762111, 40.85940997630237],\n",
       "    [-73.89299354227633, 40.85838612046538],\n",
       "    [-73.8944135507376, 40.85643377580147],\n",
       "    [-73.89477596003171, 40.85592952563393],\n",
       "    [-73.89549889768499, 40.854749765891384],\n",
       "    [-73.89560883346181, 40.85457037009787],\n",
       "    [-73.89644052566297, 40.85490775915559],\n",
       "    [-73.89709926839446, 40.855172290942875],\n",
       "    [-73.89831118626606, 40.85406115105141],\n",
       "    [-73.89863543744137, 40.8539069754361],\n",
       "    [-73.89816577520747, 40.85514637639308],\n",
       "    [-73.89877598610725, 40.85536324709642],\n",
       "    [-73.89967155800208, 40.8556689083972],\n",
       "    [-73.90060386049306, 40.855987237865136],\n",
       "    [-73.90077922747537, 40.856047109729],\n",
       "    [-73.90085477134976, 40.855937440328404],\n",
       "    [-73.90116590959869, 40.855495674561254],\n",
       "    [-73.90130126562461, 40.85530349000007],\n",
       "    [-73.90153703392646, 40.85499464378932],\n",
       "    [-73.90185996053114, 40.8545861492599],\n",
       "    [-73.90208001143412, 40.85462259970009],\n",
       "    [-73.9029886459483, 40.85477310914504],\n",
       "    [-73.90395154262775, 40.85497392301589],\n",
       "    [-73.90472622214317, 40.855370394831326],\n",
       "    [-73.90557007241205, 40.85578732289611],\n",
       "    [-73.90522169962244, 40.85620359480207],\n",
       "    [-73.90508614076846, 40.85641083070546],\n",
       "    [-73.90468371344764, 40.857060301724275],\n",
       "    [-73.90565953515332, 40.85739873466372],\n",
       "    [-73.90526389216569, 40.85804717834941],\n",
       "    [-73.90486847215523, 40.85869322470881],\n",
       "    [-73.90447464104066, 40.859341594676465],\n",
       "    [-73.90408132735651, 40.8599878475083],\n",
       "    [-73.90351390564139, 40.86091751015078],\n",
       "    [-73.90254479326398, 40.860578255335696],\n",
       "    [-73.90233887221454, 40.86095497146919],\n",
       "    [-73.90211720350506, 40.86132694802353],\n",
       "    [-73.90188007349444, 40.861693624619896],\n",
       "    [-73.9016278508774, 40.86205443458002],\n",
       "    [-73.9013609036318, 40.86240886466221],\n",
       "    [-73.90107966951528, 40.86275638342237],\n",
       "    [-73.90028368104447, 40.86247183708805],\n",
       "    [-73.89996177631032, 40.86235028002582],\n",
       "    [-73.89964261686002, 40.86221043694762],\n",
       "    [-73.89943670840407, 40.86211691206553],\n",
       "    [-73.89841038406632, 40.86229696667957],\n",
       "    [-73.89798099370022, 40.86240253986979],\n",
       "    [-73.89737274791612, 40.862432364040096],\n",
       "    [-73.89714379743609, 40.86244506515187],\n",
       "    [-73.89773815441899, 40.861351137027974],\n",
       "    [-73.8980245302098, 40.860820461119864],\n",
       "    [-73.89822728963495, 40.860448864352726],\n",
       "    [-73.8982897336309, 40.860334421461594],\n",
       "    [-73.89859097184362, 40.859766783267396],\n",
       "    [-73.89880457618332, 40.859364270993524],\n",
       "    [-73.89883814571424, 40.85930730834145],\n",
       "    [-73.89866157479744, 40.859246901796254],\n",
       "    [-73.89818244709177, 40.859083681169665],\n",
       "    [-73.8973576547877, 40.858762734927396],\n",
       "    [-73.89636314517455, 40.85837531884534],\n",
       "    [-73.89573924731727, 40.858138206765226],\n",
       "    [-73.89469326407509, 40.85942628230906],\n",
       "    [-73.89381026006309, 40.85898656513138],\n",
       "    [-73.8932152075781, 40.85987420615567],\n",
       "    [-73.8925639256652, 40.860522728915896],\n",
       "    [-73.89141802424012, 40.86166298404372],\n",
       "    [-73.89138023380261, 40.86170058826304]]]},\n",
       " 'properties': {'name': 'Fordham South'}}"
      ]
     },
     "execution_count": 13,
     "metadata": {},
     "output_type": "execute_result"
    }
   ],
   "source": [
    "# Transforming the previous result to a GeoJSON string\n",
    "geo_polygon = transform_json(polygon)\n",
    "geo_polygon"
   ]
  },
  {
   "cell_type": "code",
   "execution_count": 14,
   "metadata": {},
   "outputs": [],
   "source": [
    "# Storing GeoJSON string to disk\n",
    "save_json(geo_polygon, \"geo_polygon.json\")"
   ]
  },
  {
   "cell_type": "markdown",
   "metadata": {},
   "source": [
    "### Making geographical queries"
   ]
  },
  {
   "cell_type": "code",
   "execution_count": 15,
   "metadata": {},
   "outputs": [],
   "source": [
    "# Neighborhood intersects point\n",
    "intersection = db.neighborhoods.find_one({\"geometry\": {\"$geoIntersects\": {\"$geometry\": {\"type\": \"Point\", \"coordinates\": [-73.93414657, 40.82302903]}}}})"
   ]
  },
  {
   "cell_type": "code",
   "execution_count": 16,
   "metadata": {},
   "outputs": [],
   "source": [
    "save_json(transform_json(intersection), \"geo_intersection.json\")"
   ]
  },
  {
   "cell_type": "code",
   "execution_count": 17,
   "metadata": {},
   "outputs": [],
   "source": [
    "# Restaurants within neighborhood\n",
    "neighborhood = db.neighborhoods.find_one({\"geometry\": {\"$geoIntersects\": {\"$geometry\": {\"type\": \"Point\", \"coordinates\": [-73.93414657, 40.82302903]}}}})\n",
    "restaurants = db.restaurants.find({\"location\": {\"$geoWithin\": {\"$geometry\": neighborhood[\"geometry\"]}}})\n",
    "\n",
    "geo_restaurants = []\n",
    "for restaurant in restaurants:\n",
    "    geo_restaurants.append(transform_json(restaurant))\n",
    "geo_feature_collection = create_feature_collection(geo_restaurants)"
   ]
  },
  {
   "cell_type": "code",
   "execution_count": 18,
   "metadata": {},
   "outputs": [],
   "source": [
    "save_json(geo_feature_collection, \"geo_feature_collection.json\")"
   ]
  },
  {
   "cell_type": "code",
   "execution_count": 19,
   "metadata": {},
   "outputs": [],
   "source": [
    "# Restaurants by proximity\n",
    "restaurants = db.restaurants.find({\"location\": {\"$geoWithin\": {\"$centerSphere\": [[-73.93414657, 40.82302903 ], 1.5/3963.2]}}}) # 1.5 miles\n",
    "\n",
    "geo_restaurants = []\n",
    "for restaurant in restaurants:\n",
    "    geo_restaurants.append(transform_json( restaurant))\n",
    "save_json( create_feature_collection(geo_restaurants), \"geo_proximity.json\")"
   ]
  },
  {
   "cell_type": "code",
   "execution_count": 20,
   "metadata": {},
   "outputs": [],
   "source": [
    "# Restaurants within sphere\n",
    "restaurants = db.restaurants.find({\"location\": {\"$nearSphere\": {\"$geometry\": {\"type\": \"Point\", \"coordinates\": [-73.93414657, 40.82302903]}, \"$minDistance\": 1000, \"$maxDistance\": 1500}}})\n",
    "\n",
    "geo_restaurants = []\n",
    "for restaurant in restaurants:\n",
    "    geo_restaurants.append(transform_json(restaurant))\n",
    "save_json(create_feature_collection(geo_restaurants), \"geo_sphere.json\")"
   ]
  },
  {
   "cell_type": "code",
   "execution_count": null,
   "metadata": {},
   "outputs": [],
   "source": []
  }
 ],
 "metadata": {
  "kernelspec": {
   "display_name": "Python 3",
   "language": "python",
   "name": "python3"
  },
  "language_info": {
   "codemirror_mode": {
    "name": "ipython",
    "version": 3
   },
   "file_extension": ".py",
   "mimetype": "text/x-python",
   "name": "python",
   "nbconvert_exporter": "python",
   "pygments_lexer": "ipython3",
   "version": "3.7.6"
  }
 },
 "nbformat": 4,
 "nbformat_minor": 4
}
